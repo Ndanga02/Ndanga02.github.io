{
 "cells": [
  {
   "cell_type": "code",
   "execution_count": 4,
   "id": "90c71cb2",
   "metadata": {},
   "outputs": [],
   "source": [
    "import os\n",
    "import openai"
   ]
  },
  {
   "cell_type": "code",
   "execution_count": 7,
   "id": "60c8c814",
   "metadata": {},
   "outputs": [],
   "source": [
    "from git import Repo"
   ]
  },
  {
   "cell_type": "code",
   "execution_count": 8,
   "id": "4dbea14a",
   "metadata": {},
   "outputs": [],
   "source": [
    "from pathlib import Path"
   ]
  },
  {
   "cell_type": "code",
   "execution_count": 10,
   "id": "39a0ba20",
   "metadata": {},
   "outputs": [],
   "source": [
    "PATH_TO_BLOG_REPOSITORY = Path(\n",
    "    'C:\\\\Users\\\\ndang\\\\Desktop\\\\Other\\\\PyProjects\\\\automatic blog creator\\\\.git')"
   ]
  },
  {
   "cell_type": "code",
   "execution_count": 13,
   "id": "26eb6eb0",
   "metadata": {},
   "outputs": [],
   "source": [
    "PATH_TO_BLOG = PATH_TO_BLOG_REPOSITORY.parent"
   ]
  },
  {
   "cell_type": "code",
   "execution_count": 14,
   "id": "7b816847",
   "metadata": {},
   "outputs": [],
   "source": [
    "PATH_TO_CONTENT = PATH_TO_BLOG/\"content\""
   ]
  },
  {
   "cell_type": "code",
   "execution_count": 15,
   "id": "847c0455",
   "metadata": {},
   "outputs": [],
   "source": [
    "Path.mkdir(PATH_TO_CONTENT, exist_ok=True,parents=True)"
   ]
  },
  {
   "cell_type": "code",
   "execution_count": 16,
   "id": "81b1ff69",
   "metadata": {},
   "outputs": [],
   "source": [
    "def update_blog(commit_msg = \"updates blog\"):\n",
    "    repo = Repo(PATH_TO_BLOG_REPOSITORY)\n",
    "    repo.git.add(all=True)\n",
    "    repo.index.commit(commit_msg)\n",
    "    origin = repo.remote(name = \"origin\")\n",
    "    origin.push()"
   ]
  },
  {
   "cell_type": "code",
   "execution_count": 18,
   "id": "42a07165",
   "metadata": {},
   "outputs": [],
   "source": [
    "rand = 'Earth is precious, but we should visit mars'"
   ]
  },
  {
   "cell_type": "code",
   "execution_count": 19,
   "id": "65764138",
   "metadata": {},
   "outputs": [],
   "source": [
    "with open(PATH_TO_BLOG/\"index.html\", \"w\") as f:\n",
    "    f.write(rand)"
   ]
  },
  {
   "cell_type": "code",
   "execution_count": 21,
   "id": "5b640bf3",
   "metadata": {},
   "outputs": [],
   "source": [
    "update_blog()"
   ]
  },
  {
   "cell_type": "code",
   "execution_count": 24,
   "id": "30077418",
   "metadata": {},
   "outputs": [
    {
     "data": {
      "text/plain": [
       "[WindowsPath('C:/Users/ndang/Desktop/Other/PyProjects/automatic blog creator/index.html')]"
      ]
     },
     "execution_count": 24,
     "metadata": {},
     "output_type": "execute_result"
    }
   ],
   "source": [
    "list(PATH_TO_BLOG.glob(\"*.html\"))"
   ]
  },
  {
   "cell_type": "code",
   "execution_count": 25,
   "id": "5ca5910c",
   "metadata": {},
   "outputs": [],
   "source": [
    "import shutil"
   ]
  },
  {
   "cell_type": "code",
   "execution_count": null,
   "id": "aa22d0cd",
   "metadata": {},
   "outputs": [],
   "source": []
  },
  {
   "cell_type": "code",
   "execution_count": null,
   "id": "0dde2c48",
   "metadata": {},
   "outputs": [],
   "source": [
    "def create_blog(title, content, cover_img):\n",
    "    cover_img = Path(cover_img)\n",
    "    \n",
    "    files = len(list(PATH_TO_BLOG.glob(\"*.html\")))\n",
    "    new_title = f\"{files+1}.html\"\n",
    "    path_to_newcontent = PATH_TO_CONTENT/new_title"
   ]
  }
 ],
 "metadata": {
  "kernelspec": {
   "display_name": "Python 3 (ipykernel)",
   "language": "python",
   "name": "python3"
  },
  "language_info": {
   "codemirror_mode": {
    "name": "ipython",
    "version": 3
   },
   "file_extension": ".py",
   "mimetype": "text/x-python",
   "name": "python",
   "nbconvert_exporter": "python",
   "pygments_lexer": "ipython3",
   "version": "3.10.9"
  }
 },
 "nbformat": 4,
 "nbformat_minor": 5
}
