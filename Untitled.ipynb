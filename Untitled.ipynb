{
 "cells": [
  {
   "cell_type": "code",
   "execution_count": 4,
   "id": "ea7a188c",
   "metadata": {},
   "outputs": [],
   "source": [
    "import os\n",
    "import openai"
   ]
  },
  {
   "cell_type": "code",
   "execution_count": 7,
   "id": "837e7fe9",
   "metadata": {},
   "outputs": [],
   "source": [
    "from git import Repo"
   ]
  },
  {
   "cell_type": "code",
   "execution_count": 8,
   "id": "120c8071",
   "metadata": {},
   "outputs": [],
   "source": [
    "from pathlib import Path"
   ]
  },
  {
   "cell_type": "code",
   "execution_count": 10,
   "id": "6085cf72",
   "metadata": {},
   "outputs": [],
   "source": [
    "PATH_TO_BLOG_REPOSITORY = Path(\n",
    "    'C:\\\\Users\\\\ndang\\\\Desktop\\\\Other\\\\PyProjects\\\\automatic blog creator\\\\.git')"
   ]
  },
  {
   "cell_type": "code",
   "execution_count": 13,
   "id": "8d075449",
   "metadata": {},
   "outputs": [],
   "source": [
    "PATH_TO_BLOG = PATH_TO_BLOG_REPOSITORY.parent"
   ]
  },
  {
   "cell_type": "code",
   "execution_count": 14,
   "id": "e62b7f67",
   "metadata": {},
   "outputs": [],
   "source": [
    "PATH_TO_CONTENT = PATH_TO_BLOG/\"content\""
   ]
  },
  {
   "cell_type": "code",
   "execution_count": 15,
   "id": "cc8f31ba",
   "metadata": {},
   "outputs": [],
   "source": [
    "Path.mkdir(PATH_TO_CONTENT, exist_ok=True,parents=True)"
   ]
  },
  {
   "cell_type": "code",
   "execution_count": 16,
   "id": "2d75a870",
   "metadata": {},
   "outputs": [],
   "source": [
    "def update_blog(commit_msg = \"updates blog\"):\n",
    "    repo = Repo(PATH_TO_BLOG_REPOSITORY)\n",
    "    repo.git.add(all=True)\n",
    "    repo.index.commit(commit_msg)\n",
    "    origin = repo.remote(name = \"origin\")\n",
    "    origin.push()"
   ]
  },
  {
   "cell_type": "code",
   "execution_count": 18,
   "id": "1225cc02",
   "metadata": {},
   "outputs": [],
   "source": [
    "rand = 'Earth is precious, but we should visit mars'"
   ]
  },
  {
   "cell_type": "code",
   "execution_count": 19,
   "id": "dac600e3",
   "metadata": {},
   "outputs": [],
   "source": [
    "with open(PATH_TO_BLOG/\"index.html\", \"w\") as f:\n",
    "    f.write(rand)"
   ]
  },
  {
   "cell_type": "code",
   "execution_count": 21,
   "id": "41fa1475",
   "metadata": {},
   "outputs": [],
   "source": [
    "update_blog()"
   ]
  },
  {
   "cell_type": "code",
   "execution_count": 24,
   "id": "fd62a68e",
   "metadata": {},
   "outputs": [
    {
     "data": {
      "text/plain": [
       "[WindowsPath('C:/Users/ndang/Desktop/Other/PyProjects/automatic blog creator/index.html')]"
      ]
     },
     "execution_count": 24,
     "metadata": {},
     "output_type": "execute_result"
    }
   ],
   "source": [
    "list(PATH_TO_BLOG.glob(\"*.html\"))"
   ]
  },
  {
   "cell_type": "code",
   "execution_count": 25,
   "id": "43bfff98",
   "metadata": {},
   "outputs": [],
   "source": [
    "import shutil"
   ]
  },
  {
   "cell_type": "code",
   "execution_count": 49,
   "id": "43e94975",
   "metadata": {},
   "outputs": [],
   "source": [
    "def create_blog(title, content, cover_img):\n",
    "    cover_img = Path(cover_img)\n",
    "    \n",
    "    files = len(list(PATH_TO_BLOG.glob(\"*.html\")))\n",
    "    new_title = f\"{files+1}.html\"\n",
    "    path_to_newcontent = PATH_TO_CONTENT/new_title\n",
    "    \n",
    "    shutil.copy(cover_img, PATH_TO_CONTENT)\n",
    "    \n",
    "    if not os.path.exists(path_to_newcontent):\n",
    "        with open(path_to_newcontent,\"w\") as f:\n",
    "            f.write(\"<!DOCTYPE HTML>\\n\")\n",
    "            f.write(\"<html>\\n\")\n",
    "            f.write(\"<head>\\n\")\n",
    "            f.write(f\"<title>{title}</title>n\")\n",
    "            f.write(\"</head>\\n\")\n",
    "            \n",
    "            f.write(\"<body>\\n\")\n",
    "            f.write(f\"<img src={cover_img} alt = 'cover_img'> <br/>\\n\")\n",
    "            f.write(f\"<h1>{title}</h1>\")\n",
    "            f.write(content.replace(\"\\n\",\"<br/>\\n\"))\n",
    "            f.write(\"</body>\\n\")\n",
    "            f.write(\"</html>\\n\")\n",
    "            print(\"blog created\")\n",
    "            return path_to_newcontent\n",
    "    else:\n",
    "        raise FileExistsError (\"File already exists.\")\n",
    "    "
   ]
  },
  {
   "cell_type": "code",
   "execution_count": 50,
   "id": "4544c9a6",
   "metadata": {},
   "outputs": [
    {
     "name": "stdout",
     "output_type": "stream",
     "text": [
      "blog created\n"
     ]
    }
   ],
   "source": [
    "path_to_newcontent = create_blog('Hello world', 'Im just testing', 'book1-page18.jpg')"
   ]
  },
  {
   "cell_type": "code",
   "execution_count": 42,
   "id": "58cb96af",
   "metadata": {},
   "outputs": [
    {
     "data": {
      "text/plain": [
       "WindowsPath('C:/Users/ndang/Desktop/Other/PyProjects/automatic blog creator/content/2.html')"
      ]
     },
     "execution_count": 42,
     "metadata": {},
     "output_type": "execute_result"
    }
   ],
   "source": [
    "path_to_content"
   ]
  },
  {
   "cell_type": "code",
   "execution_count": 30,
   "id": "d845c615",
   "metadata": {},
   "outputs": [],
   "source": [
    "import bs4"
   ]
  },
  {
   "cell_type": "code",
   "execution_count": 40,
   "id": "8f12fac3",
   "metadata": {},
   "outputs": [],
   "source": [
    "#Index.html with all blog htmls\n",
    "\n",
    "with open(PATH_TO_BLOG/\"index.html\", \"r\") as index:\n",
    "    soup = bs4.BeautifulSoup(index.read())\n",
    "    "
   ]
  },
  {
   "cell_type": "code",
   "execution_count": 41,
   "id": "d0a1ac65",
   "metadata": {},
   "outputs": [
    {
     "data": {
      "text/plain": [
       "'<!DOCTYPE html>\\n<html lang=\"en\">\\n<head>\\n<meta charset=\"utf-8\"/>\\n<meta content=\"width=device-width, initial-scale=1.0\" name=\"viewport\"/>\\n<title>Blogs</title>\\n</head>\\n<body>\\n<h1>Auto Blogs</h1>\\n<a href=\"index.html\">Home</a>\\n</body>\\n</html>'"
      ]
     },
     "execution_count": 41,
     "metadata": {},
     "output_type": "execute_result"
    }
   ],
   "source": [
    "str(soup)"
   ]
  },
  {
   "cell_type": "code",
   "execution_count": 43,
   "id": "3d6c1a18",
   "metadata": {},
   "outputs": [],
   "source": [
    "def check_duplicate_links(path_to_newcontent, links):\n",
    "    urls = [str(link.get(\"href\")) for link in links]\n",
    "    content_path = str(Path(*path_to_newcontent.parts[-2:]))\n",
    "    return content_path in urls"
   ]
  },
  {
   "cell_type": "code",
   "execution_count": 52,
   "id": "7e2567a6",
   "metadata": {},
   "outputs": [],
   "source": [
    "def write_to_index(path_to_newcontent):\n",
    "    with open(PATH_TO_BLOG/\"index.html\",\"r\") as index:\n",
    "        soup = bs4.BeautifulSoup(index.read())\n",
    "        \n",
    "        links = soup.find_all('a')\n",
    "        last_link = links[-1]\n",
    "        \n",
    "        if check_duplicate_links(path_to_newcontent,links):\n",
    "            raise ValueError (\"Link already exists\")\n",
    "            \n",
    "        link_to_newblog = soup.new_tag(\"a\", href=Path(*path_to_newcontent[-2:]))\n",
    "        link_to_newblog.string = path_to_newcontent.name.split('.')[0]\n",
    "        last_link.insert_after(link_to_newblog)\n",
    "        \n",
    "        with open(PATH_TO_BLOG/\"index.html\",\"w\") as f:\n",
    "            f.write(str(soup.prettify(formatter=\"html\")))"
   ]
  },
  {
   "cell_type": "code",
   "execution_count": 53,
   "id": "76c28931",
   "metadata": {},
   "outputs": [
    {
     "ename": "TypeError",
     "evalue": "'WindowsPath' object is not subscriptable",
     "output_type": "error",
     "traceback": [
      "\u001b[1;31m---------------------------------------------------------------------------\u001b[0m",
      "\u001b[1;31mTypeError\u001b[0m                                 Traceback (most recent call last)",
      "Cell \u001b[1;32mIn[53], line 1\u001b[0m\n\u001b[1;32m----> 1\u001b[0m \u001b[43mwrite_to_index\u001b[49m\u001b[43m(\u001b[49m\u001b[43mpath_to_newcontent\u001b[49m\u001b[43m)\u001b[49m\n",
      "Cell \u001b[1;32mIn[52], line 11\u001b[0m, in \u001b[0;36mwrite_to_index\u001b[1;34m(path_to_newcontent)\u001b[0m\n\u001b[0;32m      8\u001b[0m \u001b[38;5;28;01mif\u001b[39;00m check_duplicate_links(path_to_newcontent,links):\n\u001b[0;32m      9\u001b[0m     \u001b[38;5;28;01mraise\u001b[39;00m \u001b[38;5;167;01mValueError\u001b[39;00m (\u001b[38;5;124m\"\u001b[39m\u001b[38;5;124mLink already exists\u001b[39m\u001b[38;5;124m\"\u001b[39m)\n\u001b[1;32m---> 11\u001b[0m link_to_newblog \u001b[38;5;241m=\u001b[39m soup\u001b[38;5;241m.\u001b[39mnew_tag(\u001b[38;5;124m\"\u001b[39m\u001b[38;5;124ma\u001b[39m\u001b[38;5;124m\"\u001b[39m, href\u001b[38;5;241m=\u001b[39mPath(\u001b[38;5;241m*\u001b[39m\u001b[43mpath_to_newcontent\u001b[49m\u001b[43m[\u001b[49m\u001b[38;5;241;43m-\u001b[39;49m\u001b[38;5;241;43m2\u001b[39;49m\u001b[43m:\u001b[49m\u001b[43m]\u001b[49m))\n\u001b[0;32m     12\u001b[0m link_to_newblog\u001b[38;5;241m.\u001b[39mstring \u001b[38;5;241m=\u001b[39m path_to_newcontent\u001b[38;5;241m.\u001b[39mname\u001b[38;5;241m.\u001b[39msplit(\u001b[38;5;124m'\u001b[39m\u001b[38;5;124m.\u001b[39m\u001b[38;5;124m'\u001b[39m)[\u001b[38;5;241m0\u001b[39m]\n\u001b[0;32m     13\u001b[0m last_link\u001b[38;5;241m.\u001b[39minsert_after(link_to_newblog)\n",
      "\u001b[1;31mTypeError\u001b[0m: 'WindowsPath' object is not subscriptable"
     ]
    }
   ],
   "source": [
    "write_to_index(path_to_newcontent)"
   ]
  },
  {
   "cell_type": "code",
   "execution_count": null,
   "id": "bf9fb9ea",
   "metadata": {},
   "outputs": [],
   "source": []
  }
 ],
 "metadata": {
  "kernelspec": {
   "display_name": "Python 3 (ipykernel)",
   "language": "python",
   "name": "python3"
  },
  "language_info": {
   "codemirror_mode": {
    "name": "ipython",
    "version": 3
   },
   "file_extension": ".py",
   "mimetype": "text/x-python",
   "name": "python",
   "nbconvert_exporter": "python",
   "pygments_lexer": "ipython3",
   "version": "3.10.9"
  }
 },
 "nbformat": 4,
 "nbformat_minor": 5
}
