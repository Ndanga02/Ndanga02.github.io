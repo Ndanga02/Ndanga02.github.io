{
 "cells": [
  {
   "cell_type": "code",
   "execution_count": 4,
   "id": "cbb10f5e",
   "metadata": {},
   "outputs": [],
   "source": [
    "import os\n",
    "import openai"
   ]
  },
  {
   "cell_type": "code",
   "execution_count": 7,
   "id": "65c4ab93",
   "metadata": {},
   "outputs": [],
   "source": [
    "from git import Repo"
   ]
  },
  {
   "cell_type": "code",
   "execution_count": 8,
   "id": "8e829a29",
   "metadata": {},
   "outputs": [],
   "source": [
    "from pathlib import Path"
   ]
  },
  {
   "cell_type": "code",
   "execution_count": 10,
   "id": "493807c5",
   "metadata": {},
   "outputs": [],
   "source": [
    "PATH_TO_BLOG_REPOSITORY = Path(\n",
    "    'C:\\\\Users\\\\ndang\\\\Desktop\\\\Other\\\\PyProjects\\\\automatic blog creator\\\\.git')"
   ]
  },
  {
   "cell_type": "code",
   "execution_count": 13,
   "id": "bab77472",
   "metadata": {},
   "outputs": [],
   "source": [
    "PATH_TO_BLOG = PATH_TO_BLOG_REPOSITORY.parent"
   ]
  },
  {
   "cell_type": "code",
   "execution_count": 14,
   "id": "63ce1564",
   "metadata": {},
   "outputs": [],
   "source": [
    "PATH_TO_CONTENT = PATH_TO_BLOG/\"content\""
   ]
  },
  {
   "cell_type": "code",
   "execution_count": 15,
   "id": "efa54616",
   "metadata": {},
   "outputs": [],
   "source": [
    "Path.mkdir(PATH_TO_CONTENT, exist_ok=True,parents=True)"
   ]
  },
  {
   "cell_type": "code",
   "execution_count": 16,
   "id": "591f7494",
   "metadata": {},
   "outputs": [],
   "source": [
    "def update_blog(commit_msg = \"updates blog\"):\n",
    "    repo = Repo(PATH_TO_BLOG_REPOSITORY)\n",
    "    repo.git.add(all=True)\n",
    "    repo.index.commit(commit_msg)\n",
    "    origin = repo.remote(name = \"origin\")\n",
    "    origin.push()"
   ]
  },
  {
   "cell_type": "code",
   "execution_count": null,
   "id": "9afa1b87",
   "metadata": {},
   "outputs": [],
   "source": [
    "with open(PATH_TO_BLOG/\"index.html\", \"w\") as "
   ]
  }
 ],
 "metadata": {
  "kernelspec": {
   "display_name": "Python 3 (ipykernel)",
   "language": "python",
   "name": "python3"
  },
  "language_info": {
   "codemirror_mode": {
    "name": "ipython",
    "version": 3
   },
   "file_extension": ".py",
   "mimetype": "text/x-python",
   "name": "python",
   "nbconvert_exporter": "python",
   "pygments_lexer": "ipython3",
   "version": "3.10.9"
  }
 },
 "nbformat": 4,
 "nbformat_minor": 5
}
